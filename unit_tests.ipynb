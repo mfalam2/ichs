{
 "cells": [
  {
   "cell_type": "code",
   "execution_count": 1,
   "id": "fef12e51",
   "metadata": {
    "ExecuteTime": {
     "end_time": "2023-08-15T02:02:56.036405Z",
     "start_time": "2023-08-15T02:02:54.600673Z"
    }
   },
   "outputs": [
    {
     "name": "stderr",
     "output_type": "stream",
     "text": [
      "WARNING:absl:No GPU/TPU found, falling back to CPU. (Set TF_CPP_MIN_LOG_LEVEL=0 and rerun for more info.)\n"
     ]
    }
   ],
   "source": [
    "from ichs import *"
   ]
  },
  {
   "cell_type": "code",
   "execution_count": 2,
   "id": "b5b97ad8",
   "metadata": {
    "ExecuteTime": {
     "end_time": "2023-08-15T02:02:57.068494Z",
     "start_time": "2023-08-15T02:02:56.039413Z"
    }
   },
   "outputs": [
    {
     "data": {
      "text/plain": [
       "DeviceArray([ 0.00000000e+00+0.00000000e+00j,\n",
       "              0.00000000e+00+0.00000000e+00j,\n",
       "              0.00000000e+00+0.00000000e+00j,\n",
       "              0.00000000e+00+0.00000000e+00j,\n",
       "              0.00000000e+00+0.00000000e+00j,\n",
       "             -1.00000000e+00+2.44929360e-16j,\n",
       "              0.00000000e+00+0.00000000e+00j,\n",
       "             -6.12323400e-17+2.24963967e-32j,\n",
       "              0.00000000e+00+0.00000000e+00j,\n",
       "              0.00000000e+00+0.00000000e+00j,\n",
       "              0.00000000e+00+0.00000000e+00j,\n",
       "              0.00000000e+00+0.00000000e+00j,\n",
       "              0.00000000e+00+0.00000000e+00j,\n",
       "             -6.12323400e-17+2.24963967e-32j,\n",
       "              0.00000000e+00+0.00000000e+00j,\n",
       "             -3.74939946e-33+1.83667602e-48j], dtype=complex128)"
      ]
     },
     "execution_count": 2,
     "metadata": {},
     "output_type": "execute_result"
    }
   ],
   "source": [
    "# does state_vector work?\n",
    "num_qubits = 4\n",
    "KAK_list = [np.array([np.pi/2, 0, 3*np.pi/2, np.pi/2, 0, np.pi/2, 0,0,0, np.pi/2, -np.pi/2, np.pi, np.pi/2, 3*np.pi/2, \n",
    "                      0])] * (num_qubits//2)\n",
    "init_circ = Ansatz(num_qubits, 1, KAK_list=KAK_list)\n",
    "state_vector(init_circ.layer_list)"
   ]
  },
  {
   "cell_type": "code",
   "execution_count": 13,
   "id": "735ffb46",
   "metadata": {
    "ExecuteTime": {
     "end_time": "2023-08-15T02:04:59.665222Z",
     "start_time": "2023-08-15T02:04:48.994076Z"
    }
   },
   "outputs": [],
   "source": [
    "# bigger system\n",
    "num_qubits = 10\n",
    "KAK_list = [np.array([np.pi/2, 0, 3*np.pi/2, np.pi/2, 0, np.pi/2, 0,0,0, np.pi/2, -np.pi/2, np.pi, np.pi/2, 3*np.pi/2, \n",
    "                      0])] * (num_qubits//2)\n",
    "init_circ = Ansatz(num_qubits, 1, KAK_list=KAK_list)\n",
    "\n",
    "step_size = 0.01\n",
    "operator = trotter_XXZ(num_qubits, step_size, 1)\n",
    "state_to_match = operator @ state_vector(init_circ.layer_list)\n",
    "ansatz = Ansatz(num_qubits, 5)"
   ]
  },
  {
   "cell_type": "code",
   "execution_count": 14,
   "id": "3754057f",
   "metadata": {
    "ExecuteTime": {
     "end_time": "2023-08-15T02:05:03.248124Z",
     "start_time": "2023-08-15T02:05:01.550468Z"
    }
   },
   "outputs": [
    {
     "name": "stdout",
     "output_type": "stream",
     "text": [
      "(2.439454888092385e-18+3.469446951953614e-17j)\n",
      "(2.2171934427328566e-17+3.8163916471489756e-17j)\n",
      "(4.640385298237959e-17-1.0408340855860843e-17j)\n",
      "(2.439454888092385e-17+3.469446951953614e-17j)\n",
      "(3.5236570605778894e-18+0j)\n",
      "(3.5236570605778894e-18+0j)\n",
      "(2.439454888092385e-17+3.469446951953614e-17j)\n",
      "(4.640385298237959e-17-1.0408340855860843e-17j)\n",
      "(2.2171934427328566e-17+3.8163916471489756e-17j)\n",
      "(2.439454888092385e-18+3.469446951953614e-17j)\n"
     ]
    }
   ],
   "source": [
    "# test all_partial_states\n",
    "left_state_list, right_state_list = all_partial_states(state_to_match, ansatz.layer_list)\n",
    "for layer_idx in range(ansatz.num_layers):\n",
    "    layer_mat = odd_layers(ansatz.layer_list[layer_idx]) if layer_idx%2 else even_layers(ansatz.layer_list[layer_idx])\n",
    "    print(state_vector(ansatz.layer_list).conj().T @ state_to_match - left_state_list[layer_idx].conj().T @ layer_mat.conj().T @ right_state_list[layer_idx+1])\n",
    "    \n",
    "for layer_idx in range(ansatz.num_layers-1,-1,-1): \n",
    "    layer_mat = odd_layers(ansatz.layer_list[layer_idx]) if layer_idx%2 else even_layers(ansatz.layer_list[layer_idx])\n",
    "    print(state_vector(ansatz.layer_list).conj().T @ state_to_match - left_state_list[layer_idx].conj().T @ layer_mat.conj().T @ right_state_list[layer_idx+1])"
   ]
  },
  {
   "cell_type": "code",
   "execution_count": 15,
   "id": "d7b6a2f6",
   "metadata": {
    "ExecuteTime": {
     "end_time": "2023-08-15T02:05:39.938058Z",
     "start_time": "2023-08-15T02:05:05.150117Z"
    }
   },
   "outputs": [
    {
     "name": "stdout",
     "output_type": "stream",
     "text": [
      "0.5240679068103866\n",
      "0.5436423941950808\n",
      "0.5443893309657398\n",
      "0.5305756636234069\n",
      "0.7284225657256973\n"
     ]
    }
   ],
   "source": [
    "# test sweep_up_down\n",
    "for lidx in range(5): \n",
    "    new_layer, cost_list = sweep_up_down(left_state_list[lidx], right_state_list[lidx+1], ansatz.layer_list[lidx], lidx, v_sweeps=5)\n",
    "    print(cost_list[-1])"
   ]
  },
  {
   "cell_type": "code",
   "execution_count": 16,
   "id": "86a4b86e",
   "metadata": {
    "ExecuteTime": {
     "end_time": "2023-08-15T02:06:15.491366Z",
     "start_time": "2023-08-15T02:05:39.942053Z"
    }
   },
   "outputs": [
    {
     "name": "stdout",
     "output_type": "stream",
     "text": [
      "0.617283338559284\n",
      "0.2050082951942349\n",
      "0.08059776820318343\n",
      "0.03649535742269405\n",
      "0.0031897841111522274\n",
      "0.0031893688477077076\n",
      "0.002771164128550496\n",
      "0.002201643146852339\n",
      "0.0015297126433597708\n",
      "0.0014426576641090039\n",
      "0.0014426576641074496\n",
      "0.0014425564757177822\n",
      "0.001231593363270611\n",
      "0.0010370650235790313\n",
      "0.0008849242575192928\n",
      "0.0008849241461497126\n",
      "0.0008239854913553168\n",
      "0.0007075305949072463\n",
      "0.0005920758560246098\n",
      "0.0005846792992171279\n"
     ]
    }
   ],
   "source": [
    "# test sweep_left_right\n",
    "ansatz, cost_list = sweep_left_right(state_to_match, ansatz, h_sweeps=2)"
   ]
  },
  {
   "cell_type": "code",
   "execution_count": 17,
   "id": "a3d054c9",
   "metadata": {
    "ExecuteTime": {
     "end_time": "2023-08-15T02:06:15.556019Z",
     "start_time": "2023-08-15T02:06:15.491366Z"
    }
   },
   "outputs": [
    {
     "data": {
      "text/plain": [
       "DeviceArray(0.00058468, dtype=float64)"
      ]
     },
     "execution_count": 17,
     "metadata": {},
     "output_type": "execute_result"
    }
   ],
   "source": [
    "1-np.abs(state_vector(ansatz.layer_list).conj().T @ state_to_match)**2"
   ]
  },
  {
   "cell_type": "code",
   "execution_count": 18,
   "id": "561374f7",
   "metadata": {
    "ExecuteTime": {
     "end_time": "2023-08-15T02:07:54.361410Z",
     "start_time": "2023-08-15T02:06:26.844874Z"
    }
   },
   "outputs": [
    {
     "name": "stderr",
     "output_type": "stream",
     "text": [
      "\r",
      " circuit loop:   0%|                                                                             | 0/2 [00:00<?, ?it/s]"
     ]
    },
    {
     "name": "stdout",
     "output_type": "stream",
     "text": [
      "0.8545074469715612\n",
      "0.6850320915472863\n",
      "0.4404216819124872\n",
      "0.13930381865343466\n",
      "0.011820711122147443\n",
      "0.01181711494763471\n",
      "0.00679040064785108\n",
      "0.004645200631776203\n",
      "0.0038501280411271654\n",
      "0.0037827664900830227\n",
      "0.003782766490084133\n",
      "0.0037827029178845173\n",
      "0.00347910921949246\n",
      "0.003144993120003048\n",
      "0.002433939909177285\n",
      "0.0024333021334771443\n",
      "0.0021661311128777783\n",
      "0.0019771341098351325\n",
      "0.0018241802484464387\n"
     ]
    },
    {
     "name": "stderr",
     "output_type": "stream",
     "text": [
      "\r",
      " circuit loop:  50%|██████████████████████████████████▌                                  | 1/2 [00:36<00:36, 36.53s/it]"
     ]
    },
    {
     "name": "stdout",
     "output_type": "stream",
     "text": [
      "0.0018046555935092856\n",
      "0.04933652911475872\n",
      "0.01984798783814401\n",
      "0.010786417168047846\n",
      "0.009213367826672592\n",
      "0.005044327877890109\n",
      "0.005027014230422511\n",
      "0.004095667240049505\n",
      "0.003578636181093664\n",
      "0.003310405523129667\n",
      "0.003300822520097668\n",
      "0.003300822520097446\n",
      "0.0033008140481473047\n",
      "0.0032455829113869905\n",
      "0.003091962573796736\n",
      "0.002564120326754016\n",
      "0.002557583166716615\n",
      "0.002322897817953584\n",
      "0.0021638036070719124\n",
      "0.002092873982556309\n"
     ]
    },
    {
     "name": "stderr",
     "output_type": "stream",
     "text": [
      " circuit loop: 100%|█████████████████████████████████████████████████████████████████████| 2/2 [01:12<00:00, 36.18s/it]"
     ]
    },
    {
     "name": "stdout",
     "output_type": "stream",
     "text": [
      "0.0020868916127860793\n"
     ]
    },
    {
     "name": "stderr",
     "output_type": "stream",
     "text": [
      "\n"
     ]
    }
   ],
   "source": [
    "# problem on the second iteration?\n",
    "layer_list, compression_infidelities, exact_fidelity = ichs(init_circ, 0.1, 0.05, 0.05, 5, h_sweeps=2)"
   ]
  },
  {
   "cell_type": "code",
   "execution_count": 20,
   "id": "5160bada",
   "metadata": {
    "ExecuteTime": {
     "end_time": "2023-08-15T02:07:59.530256Z",
     "start_time": "2023-08-15T02:07:59.517245Z"
    }
   },
   "outputs": [
    {
     "data": {
      "text/plain": [
       "DeviceArray(0.00780106, dtype=float64)"
      ]
     },
     "execution_count": 20,
     "metadata": {},
     "output_type": "execute_result"
    }
   ],
   "source": [
    "# problem? \n",
    "1-exact_fidelity"
   ]
  },
  {
   "cell_type": "code",
   "execution_count": null,
   "id": "cd7cfe50",
   "metadata": {},
   "outputs": [],
   "source": []
  }
 ],
 "metadata": {
  "kernelspec": {
   "display_name": "Python [conda env:snowflakes] *",
   "language": "python",
   "name": "conda-env-snowflakes-py"
  },
  "language_info": {
   "codemirror_mode": {
    "name": "ipython",
    "version": 3
   },
   "file_extension": ".py",
   "mimetype": "text/x-python",
   "name": "python",
   "nbconvert_exporter": "python",
   "pygments_lexer": "ipython3",
   "version": "3.9.13"
  },
  "toc": {
   "base_numbering": 1,
   "nav_menu": {},
   "number_sections": true,
   "sideBar": true,
   "skip_h1_title": false,
   "title_cell": "Table of Contents",
   "title_sidebar": "Contents",
   "toc_cell": false,
   "toc_position": {},
   "toc_section_display": true,
   "toc_window_display": false
  }
 },
 "nbformat": 4,
 "nbformat_minor": 5
}
